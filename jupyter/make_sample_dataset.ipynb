{
 "cells": [
  {
   "cell_type": "code",
   "execution_count": 22,
   "metadata": {},
   "outputs": [],
   "source": [
    "import os\n",
    "from PIL import Image\n",
    "import numpy\n",
    "from collections import Counter"
   ]
  },
  {
   "cell_type": "code",
   "execution_count": 36,
   "metadata": {},
   "outputs": [],
   "source": [
    "dir_annotation = \"SegmentationClass\"\n",
    "dir_image = \"JPEGImages\"\n",
    "valid_labels = {\n",
    "    0: \"Background\",\n",
    "    1: \"Aeroplane\",\n",
    "    2: \"Bicycle\",\n",
    "    3: \"Bird\",\n",
    "    4: \"Boat\",\n",
    "    5: \"Bottle\",\n",
    "    6: \"Bus\",\n",
    "    255: \"Ignore\"\n",
    "}\n",
    "\n",
    "dir_output_annotation = \"sample/annotation\"\n",
    "dir_output_image = \"sample/image\"\n",
    "os.makedirs(dir_output_annotation, exist_ok=True)\n",
    "os.makedirs(dir_output_image, exist_ok=True)"
   ]
  },
  {
   "cell_type": "code",
   "execution_count": 24,
   "metadata": {},
   "outputs": [],
   "source": [
    "annotation_filelist = os.listdir(dir_annotation)\n",
    "image_filelist = os.listdir(dir_image)"
   ]
  },
  {
   "cell_type": "code",
   "execution_count": 38,
   "metadata": {},
   "outputs": [],
   "source": [
    "for annotation_file in annotation_filelist:\n",
    "    img = Image.open(\"{}/{}\".format(dir_annotation, annotation_file))\n",
    "    arr = numpy.array(img)\n",
    "    label_list = [v for ar in arr for v in ar]\n",
    "    counter = Counter(label_list)\n",
    "    if all([k in valid_labels.keys() for k in counter.keys()]):\n",
    "        jpg_file = annotation_file.replace(\".png\", \".jpg\")\n",
    "        os.system(\"cp {}/{} {}/{}\".format(dir_image, jpg_file, dir_output_image, jpg_file))\n",
    "        os.system(\"cp {}/{} {}/{}\".format(dir_annotation, annotation_file, dir_output_annotation, annotation_file))"
   ]
  },
  {
   "cell_type": "code",
   "execution_count": 39,
   "metadata": {},
   "outputs": [
    {
     "name": "stdout",
     "output_type": "stream",
     "text": [
      "626\n"
     ]
    }
   ],
   "source": [
    "d = os.listdir(dir_output_image)\n",
    "print(len(d))"
   ]
  },
  {
   "cell_type": "code",
   "execution_count": 26,
   "metadata": {},
   "outputs": [],
   "source": []
  },
  {
   "cell_type": "code",
   "execution_count": 28,
   "metadata": {},
   "outputs": [],
   "source": []
  },
  {
   "cell_type": "code",
   "execution_count": 29,
   "metadata": {},
   "outputs": [],
   "source": []
  },
  {
   "cell_type": "code",
   "execution_count": 30,
   "metadata": {},
   "outputs": [],
   "source": []
  },
  {
   "cell_type": "code",
   "execution_count": 33,
   "metadata": {},
   "outputs": [
    {
     "data": {
      "text/plain": [
       "False"
      ]
     },
     "execution_count": 33,
     "metadata": {},
     "output_type": "execute_result"
    }
   ],
   "source": []
  },
  {
   "cell_type": "code",
   "execution_count": 37,
   "metadata": {},
   "outputs": [
    {
     "data": {
      "text/plain": [
       "'2007_000032.png'"
      ]
     },
     "execution_count": 37,
     "metadata": {},
     "output_type": "execute_result"
    }
   ],
   "source": [
    "annotation_file"
   ]
  },
  {
   "cell_type": "code",
   "execution_count": null,
   "metadata": {},
   "outputs": [],
   "source": []
  }
 ],
 "metadata": {
  "kernelspec": {
   "display_name": "Python 3",
   "language": "python",
   "name": "python3"
  },
  "language_info": {
   "codemirror_mode": {
    "name": "ipython",
    "version": 3
   },
   "file_extension": ".py",
   "mimetype": "text/x-python",
   "name": "python",
   "nbconvert_exporter": "python",
   "pygments_lexer": "ipython3",
   "version": "3.7.3"
  }
 },
 "nbformat": 4,
 "nbformat_minor": 2
}
