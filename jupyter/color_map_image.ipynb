{
 "cells": [
  {
   "cell_type": "code",
   "execution_count": 1,
   "metadata": {},
   "outputs": [],
   "source": [
    "import numpy\n",
    "\n",
    "def bit_get(val, idx):\n",
    "  \"\"\"Gets the bit value.\n",
    "\n",
    "  Args:\n",
    "    val: Input value, int or numpy int array.\n",
    "    idx: Which bit of the input val.\n",
    "\n",
    "  Returns:\n",
    "    The \"idx\"-th bit of input val.\n",
    "  \"\"\"\n",
    "  return (val >> idx) & 1\n",
    "\n",
    "def get_color_map(num):\n",
    "    \"\"\"\n",
    "        Args:\n",
    "            num (int): カラーマップを出力する数\n",
    "        Returns:\n",
    "            numpy.array: (num, 3)のカラーマップarray\n",
    "    \"\"\"\n",
    "    colormap = numpy.zeros((num, 3), dtype=int)\n",
    "    ind = numpy.arange(num, dtype=int)\n",
    "    for shift in reversed(list(range(8))):\n",
    "        for channel in range(3):\n",
    "            colormap[:, channel] |= bit_get(ind, channel) << shift\n",
    "        ind >>= 3\n",
    "    return colormap"
   ]
  },
  {
   "cell_type": "code",
   "execution_count": 2,
   "metadata": {},
   "outputs": [],
   "source": [
    "color_map = get_color_map(5)"
   ]
  },
  {
   "cell_type": "code",
   "execution_count": 3,
   "metadata": {},
   "outputs": [
    {
     "data": {
      "text/plain": [
       "array([[  0,   0,   0],\n",
       "       [128,   0,   0],\n",
       "       [  0, 128,   0],\n",
       "       [128, 128,   0],\n",
       "       [  0,   0, 128]])"
      ]
     },
     "execution_count": 3,
     "metadata": {},
     "output_type": "execute_result"
    }
   ],
   "source": [
    "color_map"
   ]
  },
  {
   "cell_type": "code",
   "execution_count": 4,
   "metadata": {},
   "outputs": [],
   "source": [
    "from PIL import Image"
   ]
  },
  {
   "cell_type": "code",
   "execution_count": 5,
   "metadata": {},
   "outputs": [],
   "source": [
    "w = 20\n",
    "h = 20\n",
    "img = Image.new(\"RGB\", (w, h))"
   ]
  },
  {
   "cell_type": "code",
   "execution_count": 6,
   "metadata": {},
   "outputs": [],
   "source": [
    "img_list = []\n",
    "for c in color_map:\n",
    "    ones = numpy.ones(shape=(w, h, 3))\n",
    "    img_array = (ones * c).astype(numpy.uint8)\n",
    "    img = Image.fromarray(img_array)\n",
    "    img_list.append(img)"
   ]
  },
  {
   "cell_type": "code",
   "execution_count": 7,
   "metadata": {},
   "outputs": [],
   "source": [
    "def concat_image_widely(img_list):\n",
    "    assert len(img_list) >= 2\n",
    "    img = img_list[0]\n",
    "    for img2 in img_list[1:]:\n",
    "        img = _get_concat_h(img, img2)\n",
    "    return img\n",
    "\n",
    "def _get_concat_h(im1, im2):\n",
    "    dst = Image.new('RGB', (im1.width + im2.width, im1.height))\n",
    "    dst.paste(im1, (0, 0))\n",
    "    dst.paste(im2, (im1.width, 0))\n",
    "    return dst"
   ]
  },
  {
   "cell_type": "code",
   "execution_count": 8,
   "metadata": {
    "scrolled": true
   },
   "outputs": [
    {
     "data": {
      "image/png": "[encoded data removed]",
      "text/plain": [
       "<PIL.Image.Image image mode=RGB size=100x20 at 0x7F75CC00B9E8>"
      ]
     },
     "execution_count": 8,
     "metadata": {},
     "output_type": "execute_result"
    }
   ],
   "source": [
    "concat_image_widely(img_list)"
   ]
  },
  {
   "cell_type": "code",
   "execution_count": null,
   "metadata": {},
   "outputs": [],
   "source": []
  }
 ],
 "metadata": {
  "kernelspec": {
   "display_name": "Python 3",
   "language": "python",
   "name": "python3"
  },
  "language_info": {
   "codemirror_mode": {
    "name": "ipython",
    "version": 3
   },
   "file_extension": ".py",
   "mimetype": "text/x-python",
   "name": "python",
   "nbconvert_exporter": "python",
   "pygments_lexer": "ipython3",
   "version": "3.7.3"
  }
 },
 "nbformat": 4,
 "nbformat_minor": 2
}
