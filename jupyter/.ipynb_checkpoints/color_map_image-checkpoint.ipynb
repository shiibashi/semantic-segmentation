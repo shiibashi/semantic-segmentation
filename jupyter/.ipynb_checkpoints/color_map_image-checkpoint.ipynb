{
 "cells": [
  {
   "cell_type": "code",
   "execution_count": 6,
   "metadata": {},
   "outputs": [],
   "source": [
    "import numpy\n",
    "\n",
    "def bit_get(val, idx):\n",
    "  \"\"\"Gets the bit value.\n",
    "\n",
    "  Args:\n",
    "    val: Input value, int or numpy int array.\n",
    "    idx: Which bit of the input val.\n",
    "\n",
    "  Returns:\n",
    "    The \"idx\"-th bit of input val.\n",
    "  \"\"\"\n",
    "  return (val >> idx) & 1\n",
    "\n",
    "def get_color_map(num):\n",
    "    \"\"\"\n",
    "        Args:\n",
    "            num (int): カラーマップを出力する数\n",
    "        Returns:\n",
    "            numpy.array: (num, 3)のカラーマップarray\n",
    "    \"\"\"\n",
    "    colormap = numpy.zeros((num, 3), dtype=int)\n",
    "    ind = numpy.arange(num, dtype=int)\n",
    "    for shift in reversed(list(range(8))):\n",
    "        for channel in range(3):\n",
    "            colormap[:, channel] |= bit_get(ind, channel) << shift\n",
    "        ind >>= 3\n",
    "    return colormap"
   ]
  },
  {
   "cell_type": "code",
   "execution_count": 7,
   "metadata": {},
   "outputs": [
    {
     "data": {
      "text/plain": [
       "array([[  0,   0,   0],\n",
       "       [128,   0,   0],\n",
       "       [  0, 128,   0],\n",
       "       [128, 128,   0],\n",
       "       [  0,   0, 128],\n",
       "       [128,   0, 128],\n",
       "       [  0, 128, 128],\n",
       "       [128, 128, 128],\n",
       "       [ 64,   0,   0],\n",
       "       [192,   0,   0],\n",
       "       [ 64, 128,   0],\n",
       "       [192, 128,   0],\n",
       "       [ 64,   0, 128],\n",
       "       [192,   0, 128],\n",
       "       [ 64, 128, 128],\n",
       "       [192, 128, 128],\n",
       "       [  0,  64,   0],\n",
       "       [128,  64,   0],\n",
       "       [  0, 192,   0],\n",
       "       [128, 192,   0],\n",
       "       [  0,  64, 128],\n",
       "       [128,  64, 128],\n",
       "       [  0, 192, 128],\n",
       "       [128, 192, 128],\n",
       "       [ 64,  64,   0]])"
      ]
     },
     "execution_count": 7,
     "metadata": {},
     "output_type": "execute_result"
    }
   ],
   "source": [
    "colormap"
   ]
  },
  {
   "cell_type": "code",
   "execution_count": 5,
   "metadata": {},
   "outputs": [
    {
     "data": {
      "text/plain": [
       "(512, 3)"
      ]
     },
     "execution_count": 5,
     "metadata": {},
     "output_type": "execute_result"
    }
   ],
   "source": [
    "colormap.shape"
   ]
  },
  {
   "cell_type": "code",
   "execution_count": null,
   "metadata": {},
   "outputs": [],
   "source": []
  }
 ],
 "metadata": {
  "kernelspec": {
   "display_name": "Python 3",
   "language": "python",
   "name": "python3"
  },
  "language_info": {
   "codemirror_mode": {
    "name": "ipython",
    "version": 3
   },
   "file_extension": ".py",
   "mimetype": "text/x-python",
   "name": "python",
   "nbconvert_exporter": "python",
   "pygments_lexer": "ipython3",
   "version": "3.7.3"
  }
 },
 "nbformat": 4,
 "nbformat_minor": 2
}
